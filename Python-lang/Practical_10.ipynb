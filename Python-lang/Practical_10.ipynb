{
 "cells": [
  {
   "cell_type": "code",
   "execution_count": 1,
   "metadata": {},
   "outputs": [],
   "source": [
    "from sympy import*"
   ]
  },
  {
   "cell_type": "markdown",
   "metadata": {},
   "source": [
    "Q1.Find inverse of any 3x3 matrix\n"
   ]
  },
  {
   "cell_type": "code",
   "execution_count": 2,
   "metadata": {},
   "outputs": [
    {
     "data": {
      "text/latex": [
       "$\\displaystyle \\left[\\begin{matrix}2 & 3 & 4\\\\6 & 9 & 8\\\\5 & 3 & 1\\end{matrix}\\right]$"
      ],
      "text/plain": [
       "Matrix([\n",
       "[2, 3, 4],\n",
       "[6, 9, 8],\n",
       "[5, 3, 1]])"
      ]
     },
     "execution_count": 2,
     "metadata": {},
     "output_type": "execute_result"
    }
   ],
   "source": [
    "A=Matrix([[2,3,4],[6,9,8],[5,3,1]])\n",
    "A\n"
   ]
  },
  {
   "cell_type": "code",
   "execution_count": 4,
   "metadata": {},
   "outputs": [
    {
     "data": {
      "text/latex": [
       "$\\displaystyle \\left[\\begin{matrix}\\frac{5}{12} & - \\frac{1}{4} & \\frac{1}{3}\\\\- \\frac{17}{18} & \\frac{1}{2} & - \\frac{2}{9}\\\\\\frac{3}{4} & - \\frac{1}{4} & 0\\end{matrix}\\right]$"
      ],
      "text/plain": [
       "Matrix([\n",
       "[  5/12, -1/4,  1/3],\n",
       "[-17/18,  1/2, -2/9],\n",
       "[   3/4, -1/4,    0]])"
      ]
     },
     "execution_count": 4,
     "metadata": {},
     "output_type": "execute_result"
    }
   ],
   "source": [
    "A.inv()"
   ]
  },
  {
   "cell_type": "markdown",
   "metadata": {},
   "source": [
    "Q2.Find the inverse of matrix by row reduction methodm"
   ]
  },
  {
   "cell_type": "code",
   "execution_count": 6,
   "metadata": {},
   "outputs": [
    {
     "data": {
      "text/latex": [
       "$\\displaystyle \\left[\\begin{matrix}1 & 3 & 4\\\\5 & 0 & 8\\\\3 & 8 & 9\\end{matrix}\\right]$"
      ],
      "text/plain": [
       "Matrix([\n",
       "[1, 3, 4],\n",
       "[5, 0, 8],\n",
       "[3, 8, 9]])"
      ]
     },
     "execution_count": 6,
     "metadata": {},
     "output_type": "execute_result"
    }
   ],
   "source": [
    "\n",
    "A=Matrix([[1,3,4],[5,0,8],[3,8,9]])\n",
    "A\n"
   ]
  },
  {
   "cell_type": "code",
   "execution_count": 7,
   "metadata": {},
   "outputs": [],
   "source": [
    "augumented_matrix=A.row_join(eye(A.shape[0]))"
   ]
  },
  {
   "cell_type": "code",
   "execution_count": 8,
   "metadata": {},
   "outputs": [],
   "source": [
    "rref_matrix,pivot_columns=augumented_matrix.rref()\n"
   ]
  },
  {
   "cell_type": "code",
   "execution_count": 10,
   "metadata": {},
   "outputs": [
    {
     "data": {
      "text/latex": [
       "$\\displaystyle \\left[\\begin{matrix}- \\frac{64}{33} & \\frac{5}{33} & \\frac{8}{11}\\\\- \\frac{7}{11} & - \\frac{1}{11} & \\frac{4}{11}\\\\\\frac{40}{33} & \\frac{1}{33} & - \\frac{5}{11}\\end{matrix}\\right]$"
      ],
      "text/plain": [
       "Matrix([\n",
       "[-64/33,  5/33,  8/11],\n",
       "[ -7/11, -1/11,  4/11],\n",
       "[ 40/33,  1/33, -5/11]])"
      ]
     },
     "execution_count": 10,
     "metadata": {},
     "output_type": "execute_result"
    }
   ],
   "source": [
    "inverse_matrix=rref_matrix[:,A.shape[1]:]\n",
    "inverse_matrix\n",
    "\n"
   ]
  },
  {
   "cell_type": "markdown",
   "metadata": {},
   "source": [
    "Q3.Find inverse by adjoint method\n"
   ]
  },
  {
   "cell_type": "code",
   "execution_count": 18,
   "metadata": {},
   "outputs": [
    {
     "data": {
      "text/latex": [
       "$\\displaystyle \\left[\\begin{matrix}3 & 1 & 4\\\\7 & 1 & 3\\\\4 & 3 & 0\\end{matrix}\\right]$"
      ],
      "text/plain": [
       "Matrix([\n",
       "[3, 1, 4],\n",
       "[7, 1, 3],\n",
       "[4, 3, 0]])"
      ]
     },
     "execution_count": 18,
     "metadata": {},
     "output_type": "execute_result"
    }
   ],
   "source": [
    "A=Matrix([[3,1,4],[7,1,3],[4,3,0]])\n",
    "A\n"
   ]
  },
  {
   "cell_type": "code",
   "execution_count": 20,
   "metadata": {},
   "outputs": [],
   "source": [
    "B=A.adjoint()"
   ]
  },
  {
   "cell_type": "code",
   "execution_count": 21,
   "metadata": {},
   "outputs": [
    {
     "data": {
      "text/latex": [
       "$\\displaystyle \\left[\\begin{matrix}- \\frac{9}{53} & \\frac{12}{53} & \\frac{17}{53}\\\\\\frac{12}{53} & - \\frac{16}{53} & - \\frac{5}{53}\\\\- \\frac{1}{53} & \\frac{19}{53} & - \\frac{4}{53}\\end{matrix}\\right]$"
      ],
      "text/plain": [
       "Matrix([\n",
       "[-9/53,  12/53, 17/53],\n",
       "[12/53, -16/53, -5/53],\n",
       "[-1/53,  19/53, -4/53]])"
      ]
     },
     "execution_count": 21,
     "metadata": {},
     "output_type": "execute_result"
    }
   ],
   "source": [
    "B.inv()"
   ]
  },
  {
   "cell_type": "markdown",
   "metadata": {},
   "source": [
    "Q4.Find inverse of matrix by adjoint method\n"
   ]
  },
  {
   "cell_type": "code",
   "execution_count": 22,
   "metadata": {},
   "outputs": [
    {
     "data": {
      "text/latex": [
       "$\\displaystyle \\left[\\begin{matrix}2 & 1 & 7\\\\6 & 1 & 3\\\\4 & 3 & 9\\end{matrix}\\right]$"
      ],
      "text/plain": [
       "Matrix([\n",
       "[2, 1, 7],\n",
       "[6, 1, 3],\n",
       "[4, 3, 9]])"
      ]
     },
     "execution_count": 22,
     "metadata": {},
     "output_type": "execute_result"
    }
   ],
   "source": [
    "A=Matrix([[2,1,7],[6,1,3],[4,3,9]])\n",
    "A"
   ]
  },
  {
   "cell_type": "code",
   "execution_count": 23,
   "metadata": {},
   "outputs": [
    {
     "data": {
      "text/latex": [
       "$\\displaystyle \\left[\\begin{matrix}0 & - \\frac{3}{4} & \\frac{1}{4}\\\\\\frac{3}{14} & - \\frac{5}{28} & - \\frac{1}{28}\\\\- \\frac{1}{14} & \\frac{9}{14} & - \\frac{1}{14}\\end{matrix}\\right]$"
      ],
      "text/plain": [
       "Matrix([\n",
       "[    0,  -3/4,   1/4],\n",
       "[ 3/14, -5/28, -1/28],\n",
       "[-1/14,  9/14, -1/14]])"
      ]
     },
     "execution_count": 23,
     "metadata": {},
     "output_type": "execute_result"
    }
   ],
   "source": [
    "B=A.adjoint()\n",
    "B.inv()\n"
   ]
  },
  {
   "cell_type": "markdown",
   "metadata": {},
   "source": [
    "Q5.Find inverse of given matrix if exist\n"
   ]
  },
  {
   "cell_type": "code",
   "execution_count": 24,
   "metadata": {},
   "outputs": [
    {
     "data": {
      "text/latex": [
       "$\\displaystyle \\left[\\begin{matrix}- \\frac{64}{33} & \\frac{5}{33} & \\frac{8}{11}\\\\- \\frac{7}{11} & - \\frac{1}{11} & \\frac{4}{11}\\\\\\frac{40}{33} & \\frac{1}{33} & - \\frac{5}{11}\\end{matrix}\\right]$"
      ],
      "text/plain": [
       "Matrix([\n",
       "[-64/33,  5/33,  8/11],\n",
       "[ -7/11, -1/11,  4/11],\n",
       "[ 40/33,  1/33, -5/11]])"
      ]
     },
     "execution_count": 24,
     "metadata": {},
     "output_type": "execute_result"
    }
   ],
   "source": [
    "\n",
    "A=Matrix([[1,3,4],[5,0,8],[3,8,9]])\n",
    "B=A.det()\n",
    "if B==0:\n",
    " print(\"inverse of given matrix is not exist because det=0\")\n",
    "else:\n",
    " C=(A.inv())\n",
    "(C)\n"
   ]
  },
  {
   "cell_type": "code",
   "execution_count": null,
   "metadata": {},
   "outputs": [],
   "source": []
  }
 ],
 "metadata": {
  "kernelspec": {
   "display_name": "Python 3",
   "language": "python",
   "name": "python3"
  },
  "language_info": {
   "codemirror_mode": {
    "name": "ipython",
    "version": 3
   },
   "file_extension": ".py",
   "mimetype": "text/x-python",
   "name": "python",
   "nbconvert_exporter": "python",
   "pygments_lexer": "ipython3",
   "version": "3.8.5"
  }
 },
 "nbformat": 4,
 "nbformat_minor": 4
}
