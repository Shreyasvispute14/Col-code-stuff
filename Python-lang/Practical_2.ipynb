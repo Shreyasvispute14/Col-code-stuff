{
 "cells": [
  {
   "cell_type": "markdown",
   "metadata": {},
   "source": [
    "    Python String"
   ]
  },
  {
   "cell_type": "markdown",
   "metadata": {},
   "source": [
    "Slicing"
   ]
  },
  {
   "cell_type": "code",
   "execution_count": 1,
   "metadata": {},
   "outputs": [],
   "source": [
    "S='Good morning'\n",
    "\n"
   ]
  },
  {
   "cell_type": "code",
   "execution_count": 2,
   "metadata": {},
   "outputs": [
    {
     "data": {
      "text/plain": [
       "'morning'"
      ]
     },
     "execution_count": 2,
     "metadata": {},
     "output_type": "execute_result"
    }
   ],
   "source": [
    "S[5:]"
   ]
  },
  {
   "cell_type": "code",
   "execution_count": 3,
   "metadata": {},
   "outputs": [],
   "source": [
    "s='Good morning'"
   ]
  },
  {
   "cell_type": "code",
   "execution_count": 4,
   "metadata": {},
   "outputs": [],
   "source": [
    "a='very '"
   ]
  },
  {
   "cell_type": "code",
   "execution_count": 5,
   "metadata": {},
   "outputs": [
    {
     "data": {
      "text/plain": [
       "'very Good morning'"
      ]
     },
     "execution_count": 5,
     "metadata": {},
     "output_type": "execute_result"
    }
   ],
   "source": [
    "a + s"
   ]
  },
  {
   "cell_type": "code",
   "execution_count": 6,
   "metadata": {},
   "outputs": [],
   "source": [
    "a='We are studying python'"
   ]
  },
  {
   "cell_type": "code",
   "execution_count": 7,
   "metadata": {},
   "outputs": [
    {
     "name": "stdout",
     "output_type": "stream",
     "text": [
      "22\n"
     ]
    }
   ],
   "source": [
    "print(len(a))"
   ]
  },
  {
   "cell_type": "code",
   "execution_count": 8,
   "metadata": {},
   "outputs": [
    {
     "name": "stdout",
     "output_type": "stream",
     "text": [
      "python \n",
      "python \n",
      "python \n",
      "python \n",
      "python \n",
      "\n"
     ]
    }
   ],
   "source": [
    "b='python \\n' \n",
    "print(b*5)  "
   ]
  },
  {
   "cell_type": "code",
   "execution_count": 9,
   "metadata": {},
   "outputs": [
    {
     "name": "stdout",
     "output_type": "stream",
     "text": [
      "Python is eazy\n"
     ]
    }
   ],
   "source": [
    "s='Python '\n",
    "t='is '\n",
    "r='eazy'\n",
    "print(s+t+r)"
   ]
  },
  {
   "cell_type": "code",
   "execution_count": 10,
   "metadata": {},
   "outputs": [
    {
     "name": "stdout",
     "output_type": "stream",
     "text": [
      "abcafjabcsaabc\n"
     ]
    }
   ],
   "source": [
    "a='xyzafjxyzsaxyz'\n",
    "print(a.replace('xyz','abc'))"
   ]
  },
  {
   "cell_type": "code",
   "execution_count": 11,
   "metadata": {},
   "outputs": [
    {
     "name": "stdout",
     "output_type": "stream",
     "text": [
      "5\n",
      "2\n"
     ]
    }
   ],
   "source": [
    "b='ioipzpjpqzppqzjbjkbzjbbz'\n",
    "print(b.count(\"z\"))\n",
    "print(b.count(\"pq\"))"
   ]
  },
  {
   "cell_type": "code",
   "execution_count": 24,
   "metadata": {},
   "outputs": [
    {
     "name": "stdout",
     "output_type": "stream",
     "text": [
      "Input any string:zebra\n",
      "'z' is prezent in the given string\n",
      "#ebra\n"
     ]
    }
   ],
   "source": [
    "b=str(input('Input any string:'))\n",
    "\n",
    "if 'z' in b:\n",
    "    print(\"'z' is prezent in the given string\")\n",
    "    print(b.replace(\"z\",\"#\"))\n",
    "    \n",
    "else:\n",
    "    print(\"z is not present\")\n",
    "        \n",
    "        "
   ]
  },
  {
   "cell_type": "code",
   "execution_count": 36,
   "metadata": {},
   "outputs": [
    {
     "name": "stdout",
     "output_type": "stream",
     "text": [
      "Enter any string:abc\n",
      "String is lower case\n"
     ]
    }
   ],
   "source": [
    "c=str(input(\"Enter any string:\"))\n",
    "if c.isupper():\n",
    "    print('String is uppper case')\n",
    "elif c.islower():\n",
    "    print(\"String is lower case\")\n",
    "    \n",
    "else:\n",
    "    print('String is not upper or lower case')\n",
    "    \n",
    "    "
   ]
  },
  {
   "cell_type": "code",
   "execution_count": 34,
   "metadata": {},
   "outputs": [
    {
     "name": "stdout",
     "output_type": "stream",
     "text": [
      "ABJKDBJKB\n"
     ]
    }
   ],
   "source": [
    "s=\"abjkdbjkb\"\n",
    "print(s.upper())\n"
   ]
  },
  {
   "cell_type": "code",
   "execution_count": 59,
   "metadata": {},
   "outputs": [
    {
     "name": "stdout",
     "output_type": "stream",
     "text": [
      "enter:ab\n",
      "is alphabet\n"
     ]
    }
   ],
   "source": [
    "S=str(input(\"enter:\"))\n",
    "if S.isnumeric():\n",
    "    print(\"is numeric\")\n",
    "elif S.isalpha():\n",
    "    print(\"is alphabet\")\n",
    "elif S.isalnum():\n",
    "    print(\"is alphanumeric\")\n",
    "else:\n",
    "    print(\"Enter valid value!\")\n",
    "\n",
    "    "
   ]
  },
  {
   "cell_type": "code",
   "execution_count": 60,
   "metadata": {},
   "outputs": [
    {
     "name": "stdout",
     "output_type": "stream",
     "text": [
      "Enter any string:abc\n"
     ]
    },
    {
     "data": {
      "text/plain": [
       "'cba'"
      ]
     },
     "execution_count": 60,
     "metadata": {},
     "output_type": "execute_result"
    }
   ],
   "source": [
    "d=str(input(\"Enter any string:\")) \n",
    "d[::-1]"
   ]
  },
  {
   "cell_type": "code",
   "execution_count": null,
   "metadata": {},
   "outputs": [],
   "source": []
  }
 ],
 "metadata": {
  "kernelspec": {
   "display_name": "Python 3",
   "language": "python",
   "name": "python3"
  },
  "language_info": {
   "codemirror_mode": {
    "name": "ipython",
    "version": 3
   },
   "file_extension": ".py",
   "mimetype": "text/x-python",
   "name": "python",
   "nbconvert_exporter": "python",
   "pygments_lexer": "ipython3",
   "version": "3.8.5"
  }
 },
 "nbformat": 4,
 "nbformat_minor": 4
}
